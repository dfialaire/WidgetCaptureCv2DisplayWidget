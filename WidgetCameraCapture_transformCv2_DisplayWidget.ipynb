{
 "cells": [
  {
   "cell_type": "code",
   "execution_count": 49,
   "metadata": {},
   "outputs": [
    {
     "data": {
      "application/vnd.jupyter.widget-view+json": {
       "model_id": "",
       "version_major": 2,
       "version_minor": 0
      },
      "text/plain": [
       "VBox(children=(HBox(children=(CameraStream(constraints={'facing_mode': 'user', 'audio': False, 'video': {'widt…"
      ]
     },
     "metadata": {},
     "output_type": "display_data"
    },
    {
     "name": "stdout",
     "output_type": "stream",
     "text": [
      "type de : image_recorder =  <class 'ipywebrtc.webrtc.ImageRecorder'>\n",
      "type après passage dans PIL.Image.open(io.BytesIO(image_recorder.image.value)) =  <class 'PIL.PngImagePlugin.PngImageFile'>\n",
      "type après passage dans np.array(im_in) =  <class 'numpy.ndarray'>\n",
      "type après passage dans compress_to_bytes(img_rgb, fmt) =  <class 'bytes'>\n",
      "<class 'ipywidgets.widgets.widget_media.Image'>\n"
     ]
    },
    {
     "data": {
      "application/vnd.jupyter.widget-view+json": {
       "model_id": "3576770bab75499e9dc7e0e90837a575",
       "version_major": 2,
       "version_minor": 0
      },
      "text/plain": [
       "Image(value=b'\\x89PNG\\r\\n\\x1a\\n\\x00\\x00\\x00\\rIHDR\\x00\\x00\\x02\\x80\\x00\\x00\\x01\\xe0\\x08\\x06\\x00\\x00\\x005\\xd1\\xdc…"
      ]
     },
     "metadata": {},
     "output_type": "display_data"
    }
   ],
   "source": [
    "import cv2\n",
    "import io\n",
    "import PIL.Image\n",
    "import numpy as np\n",
    "from ipywidgets import Image, VBox, HBox, Widget, Button\n",
    "from IPython.display import display\n",
    "from ipywebrtc import CameraStream, ImageRecorder\n",
    "##########\n",
    "def compress_to_bytes(data, fmt):\n",
    "    \"\"\"\n",
    "    Helper function to compress image data via PIL/Pillow.\n",
    "    \"\"\"\n",
    "    buff = io.BytesIO()\n",
    "    img = PIL.Image.fromarray(data)    \n",
    "    img.save(buff, format=fmt)\n",
    "    return buff.getvalue()\n",
    "##########\n",
    "VIDEO_WIDTH = 640\n",
    "VIDEO_HEIGHT = 480\n",
    "\n",
    "camera = CameraStream(constraints={'facing_mode': 'user','audio': False,'video': { 'width': VIDEO_WIDTH, 'height': VIDEO_HEIGHT}})\n",
    "image_recorder = ImageRecorder(stream=camera)\n",
    "out = Image(width=VIDEO_WIDTH, height=VIDEO_HEIGHT)\n",
    "\n",
    "FLAG_STOP = False\n",
    "\n",
    "def cap_image(_):\n",
    "    print(\"coucou\")\n",
    "    if FLAG_STOP:\n",
    "        return\n",
    "    im_in = PIL.Image.open(io.BytesIO(image_recorder.image.value))\n",
    "    im_array = np.array(im_in)[..., :3]\n",
    "    canvas = process(im_array)\n",
    "    ####\n",
    "    canvas = cv2.cvtColor(canvas, cv2.COLOR_BGR2GRAY)\n",
    "    canvas = cv2.GaussianBlur(canvas, (5, 5), 0)\n",
    "    canvas = cv2.flip(canvas, 0)\n",
    "    ####\n",
    "    im_out = PIL.Image.fromarray(canvas)\n",
    "    f = io.BytesIO()\n",
    "    im_out.save(f, format='png')\n",
    "    out.value = f.getvalue()\n",
    "    image_recorder.recording = True\n",
    "\n",
    "image_recorder.image.observe(cap_image, names=['value'])\n",
    "\n",
    "\n",
    "btn_stop = Button(description=\"Stop\",tooltip='click this to stop webcam',button_style='danger')\n",
    "# btn_stop\n",
    "def close_cam(_):\n",
    "    FLAG_STOP= True\n",
    "    Widget.close_all()\n",
    "    az = type(image_recorder)\n",
    "    print(\"type de : image_recorder = \",az)\n",
    "    im_in = PIL.Image.open(io.BytesIO(image_recorder.image.value))\n",
    "    #print(im_in)\n",
    "    ae= type(im_in)\n",
    "    print(\"type après passage dans PIL.Image.open(io.BytesIO(image_recorder.image.value)) = \",ae)\n",
    "    im_array = np.array(im_in)#[..., :3]\n",
    "    #print(im_array)\n",
    "    ar = type(im_array)\n",
    "    print(\"type après passage dans np.array(im_in) = \",ar)\n",
    "    img_rgb = cv2.flip(im_array, 0)\n",
    "    fmt = 'png'\n",
    "    data_comp = compress_to_bytes(img_rgb, fmt)\n",
    "    at = type(data_comp)\n",
    "    print(\"type après passage dans compress_to_bytes(img_rgb, fmt) = \",at)\n",
    "    image_headline = Image(width=VIDEO_WIDTH, height=VIDEO_HEIGHT)\n",
    "    image_headline.value = data_comp\n",
    "    print(type(image_headline))\n",
    "    display(image_headline)\n",
    "    \n",
    "    #\n",
    "btn_stop.on_click(close_cam)\n",
    "# Run this section and Press the Camera button to display demo\n",
    "display(VBox([HBox([camera, image_recorder, btn_stop])]))   #  btn_stop]), out]))\n"
   ]
  },
  {
   "cell_type": "code",
   "execution_count": null,
   "metadata": {},
   "outputs": [],
   "source": []
  }
 ],
 "metadata": {
  "kernelspec": {
   "display_name": "Python 3",
   "language": "python",
   "name": "python3"
  },
  "language_info": {
   "codemirror_mode": {
    "name": "ipython",
    "version": 3
   },
   "file_extension": ".py",
   "mimetype": "text/x-python",
   "name": "python",
   "nbconvert_exporter": "python",
   "pygments_lexer": "ipython3",
   "version": "3.7.10"
  }
 },
 "nbformat": 4,
 "nbformat_minor": 2
}
